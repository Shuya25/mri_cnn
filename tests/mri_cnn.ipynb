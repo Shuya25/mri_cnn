{
 "metadata": {
  "language_info": {
   "codemirror_mode": {
    "name": "ipython",
    "version": 3
   },
   "file_extension": ".py",
   "mimetype": "text/x-python",
   "name": "python",
   "nbconvert_exporter": "python",
   "pygments_lexer": "ipython3",
   "version": "3.8.8"
  },
  "orig_nbformat": 2,
  "kernelspec": {
   "name": "pythonjvsc74a57bd00a451f804f6a22474f054f4f0a0e63ba06aa4651da4814aebee200cf88a2add7",
   "display_name": "Python 3.8.8  ('.venv': poetry)"
  },
  "metadata": {
   "interpreter": {
    "hash": "0a451f804f6a22474f054f4f0a0e63ba06aa4651da4814aebee200cf88a2add7"
   }
  }
 },
 "nbformat": 4,
 "nbformat_minor": 2,
 "cells": [
  {
   "cell_type": "code",
   "execution_count": 2,
   "metadata": {},
   "outputs": [
    {
     "output_type": "stream",
     "name": "stdout",
     "text": [
      "/home/radiology_datas/JHU-radiology/20170509/AD/002_S_5018/cropbrain_flipRL_ADNI_002_S_5018_MR_MT1__N3m_Br_20121206140426408_S174291_I349888_MNI.pkl\n1114\n"
     ]
    }
   ],
   "source": [
    "import glob\n",
    "import os.path as osp\n",
    "import numpy as np\n",
    "\n",
    "rootpath = \"/home/radiology_datas/JHU-radiology/20170509/\"\n",
    "path_CN = glob.glob(rootpath + \"CN/*/*.pkl\")\n",
    "path_AD = glob.glob(rootpath + \"AD/*/*.pkl\")\n",
    "path_EMCL = glob.glob(rootpath + \"EMCI/*/*.pkl\")\n",
    "path_LMCL = glob.glob(rootpath + \"LMCI/*/*.pkl\")\n",
    "path_SMC = glob.glob(rootpath + \"SMC/*/*.pkl\")\n",
    "print(path_AD[0])\n",
    "print(len(path_AD))"
   ]
  },
  {
   "cell_type": "code",
   "execution_count": null,
   "metadata": {},
   "outputs": [],
   "source": []
  }
 ]
}