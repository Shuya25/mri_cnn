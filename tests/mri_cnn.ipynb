{
 "metadata": {
  "language_info": {
   "codemirror_mode": {
    "name": "ipython",
    "version": 3
   },
   "file_extension": ".py",
   "mimetype": "text/x-python",
   "name": "python",
   "nbconvert_exporter": "python",
   "pygments_lexer": "ipython3",
   "version": "3.8.8"
  },
  "orig_nbformat": 2,
  "kernelspec": {
   "name": "pythonjvsc74a57bd00a451f804f6a22474f054f4f0a0e63ba06aa4651da4814aebee200cf88a2add7",
   "display_name": "Python 3.8.8  ('.venv': poetry)"
  },
  "metadata": {
   "interpreter": {
    "hash": "0a451f804f6a22474f054f4f0a0e63ba06aa4651da4814aebee200cf88a2add7"
   }
  }
 },
 "nbformat": 4,
 "nbformat_minor": 2,
 "cells": [
  {
   "cell_type": "code",
   "execution_count": 22,
   "metadata": {
    "tags": []
   },
   "outputs": [
    {
     "output_type": "stream",
     "name": "stdout",
     "text": [
      "/home/radiology_datas/JHU-radiology/20170509/AD/002_S_5018/cropbrain_flipRL_ADNI_002_S_5018_MR_MT1__N3m_Br_20121206140426408_S174291_I349888_MNI.pkl\n1114\n"
     ]
    }
   ],
   "source": [
    "import glob\n",
    "import os.path as osp\n",
    "import numpy as np\n",
    "\n",
    "rootpath = \"/home/radiology_datas/JHU-radiology/20170509/\"\n",
    "path_CN = glob.glob(rootpath + \"CN/*/*.pkl\")\n",
    "path_AD = glob.glob(rootpath + \"AD/*/*.pkl\")\n",
    "path_EMCL = glob.glob(rootpath + \"EMCI/*/*.pkl\")\n",
    "path_LMCL = glob.glob(rootpath + \"LMCI/*/*.pkl\")\n",
    "path_SMC = glob.glob(rootpath + \"SMC/*/*.pkl\")\n",
    "\n",
    "label_CN = 0\n",
    "label_AD = 1\n",
    "label_EMCL = 2\n",
    "label_LMCL = 3\n",
    "label_SMC = 4\n",
    "\n",
    "print(path_AD[0])\n",
    "print(len(path_AD))"
   ]
  },
  {
   "cell_type": "code",
   "execution_count": 23,
   "metadata": {},
   "outputs": [],
   "source": [
    "import pickle\n",
    "\n",
    "with open(path_CN[0], 'rb')as rf:\n",
    "    image = pickle.load(rf, encoding='latin1')\n",
    "\n",
    "#image"
   ]
  },
  {
   "cell_type": "code",
   "execution_count": 24,
   "metadata": {},
   "outputs": [],
   "source": [
    "import glob\n",
    "import os.path as osp\n",
    "import random\n",
    "import numpy as np\n",
    "import json\n",
    "import torch\n",
    "import torch.nn as nn\n",
    "import torch.optim as optim\n",
    "import torch.utils.data as data\n",
    "from torch.utils.data import DataLoader\n",
    "import torchvision\n",
    "from torchvision import models, transforms"
   ]
  },
  {
   "cell_type": "code",
   "execution_count": 16,
   "metadata": {},
   "outputs": [],
   "source": [
    "class ImageTransform():\n",
    "    def __init__(self):\n",
    "        self.data_transform = transforms.Compose(\n",
    "            transforms.ToTensor()\n",
    "        )\n",
    "    \n",
    "    def __call__(self, img):\n",
    "        return self.data_transform(img)"
   ]
  },
  {
   "cell_type": "code",
   "execution_count": 17,
   "metadata": {},
   "outputs": [],
   "source": [
    "class BrainDataset(data.Dataset):\n",
    "\n",
    "    def __init__(self, file_list, label, transform=None):\n",
    "        self.file_list = file_list\n",
    "        self.label = label\n",
    "        self.transform = transform\n",
    "\n",
    "    def __len__(self):\n",
    "        return len(self.file_list)\n",
    "\n",
    "    def __getitem__(self, index):\n",
    "        img_paht = self.file_list[index]\n",
    "        with open(file_path, 'rb') as rf:\n",
    "            img = pickle.load(rf, encoding='latin1')\n",
    "\n",
    "        img_transformed = self.transform(img)\n",
    "        return img_transformed, self.label\n",
    "\n",
    "    def __call__(self, index):\n",
    "        return self.__getitem__(index)\n",
    "\n"
   ]
  },
  {
   "cell_type": "code",
   "execution_count": 21,
   "metadata": {},
   "outputs": [],
   "source": [
    "dataset = BrainDataset(file_list=path_CN, label=label_CN, transform=ImageTransform)\n",
    "n_train = int(len(dataset) * 0.7)\n",
    "n_val = int(len(dataset) - n_train)\n",
    "train_set, val_set = torch.utils.data.random_split(dataset, [n_train, n_val])\n"
   ]
  },
  {
   "cell_type": "code",
   "execution_count": null,
   "metadata": {},
   "outputs": [],
   "source": []
  }
 ]
}